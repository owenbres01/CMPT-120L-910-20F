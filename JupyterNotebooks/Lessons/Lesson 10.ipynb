{
 "metadata": {
  "language_info": {
   "codemirror_mode": {
    "name": "ipython",
    "version": 3
   },
   "file_extension": ".py",
   "mimetype": "text/x-python",
   "name": "python",
   "nbconvert_exporter": "python",
   "pygments_lexer": "ipython3",
   "version": "3.9.0-final"
  },
  "orig_nbformat": 2,
  "kernelspec": {
   "name": "python3",
   "display_name": "Python 3"
  }
 },
 "nbformat": 4,
 "nbformat_minor": 2,
 "cells": [
  {
   "source": [
    "# Introduction to Programming\n",
    "\n",
    "Topics for today will include:\n",
    "- CLI Driven Applications\n",
    "- Logging\n",
    "- Argparse\n",
    "- Cement\n",
    "- Recursion"
   ],
   "cell_type": "markdown",
   "metadata": {}
  },
  {
   "source": [
    "## Project Review\n",
    "---"
   ],
   "cell_type": "markdown",
   "metadata": {}
  },
  {
   "source": [
    "## CLI Driven Applications\n",
    "---\n",
    "One of the greater things about Python is the fact that it has a ton of tools built into it naturally. Because of this Python is one of the best languages for creating command line applications (CLIs).\n",
    "\n",
    "A Command Line Interface (CLI) in a simplistic sense is a way for a user to interact with a command line script. This can be useful in the sense where you have a tool that you want to be more accessable to a user without having to know exactly how the code is written but you also don't want to go the lengths of having to write a Graphical User Interface (GUI).\n",
    "\n",
    "In Python this is made a lot easier due in part to a couple of libraries built into Python itself. Two that we're going to talk about today are the logging library and the argparse library."
   ],
   "cell_type": "markdown",
   "metadata": {}
  },
  {
   "source": [
    "## [Logging](https://docs.python.org/3/library/logging.html#module-logging)\n",
    "---"
   ],
   "cell_type": "markdown",
   "metadata": {}
  },
  {
   "cell_type": "code",
   "execution_count": 29,
   "metadata": {},
   "outputs": [
    {
     "output_type": "stream",
     "name": "stderr",
     "text": [
      "WARNING:root:This is an warning log message\n",
      "ERROR:root:This is an error log message\n",
      "CRITICAL:root:This is an critical log message\n"
     ]
    }
   ],
   "source": [
    "import logging\n",
    "\n",
    "logger = logging.getLogger()\n",
    "logger.setLevel(logging.WARNING)\n",
    "\n",
    "logging.info(\"This is an info log message\")\n",
    "logging.warning(\"This is an warning log message\")\n",
    "logging.debug(\"This is an debug log message\")\n",
    "logging.error(\"This is an error log message\")\n",
    "logging.critical(\"This is an critical log message\")"
   ]
  },
  {
   "source": [
    "## [Logging: Flask](https://flask.palletsprojects.com/en/1.1.x/quickstart/#logging)\n",
    "---"
   ],
   "cell_type": "markdown",
   "metadata": {}
  },
  {
   "cell_type": "code",
   "execution_count": 24,
   "metadata": {},
   "outputs": [],
   "source": [
    "from flask import Flask\n",
    "app = Flask(__name__)\n",
    "\n",
    "@app.route('/')\n",
    "def hello_world():\n",
    "    app.logger.info(\"We're using the logger to say hello on the server side!\")\n",
    "    return 'Hello, World!'"
   ]
  },
  {
   "source": [
    "## [Argparse](https://docs.python.org/3/library/argparse.html)\n",
    "---\n",
    "Argparse is a module that make it so that you can write CLI applications a little easier. It does this by letting you define the things that a CLI appliation may require to run and make your program a little more resilent. "
   ],
   "cell_type": "markdown",
   "metadata": {}
  },
  {
   "source": [
    "## [Cement](https://builtoncement.com)\n",
    "---\n",
    "We've talked about Cement in the past and all that we want to point out here is that Cement is used to make CLIs and that it also is using Logging and Argparse!"
   ],
   "cell_type": "markdown",
   "metadata": {}
  },
  {
   "source": [
    "## Recursion\n",
    "---\n",
    "What is Recursion?\n",
    "\n",
    "Recursion is like a child asking why over and over again but eventually getting back an answer. \n",
    "\n",
    "A recursive function is a function that keeps calling itself until some base condition is met. This meaning that typically a recursive function has two parts. A base condition and at least one recursive case. \n",
    "\n",
    "So while our case continues to be false (not the base case), we will keep placing something called an execution context on top of the stack. This can possibly lead to a thing called a “stack overflow”. Stack overflow is what happens when we run out of memory to put things on top of the stack. "
   ],
   "cell_type": "markdown",
   "metadata": {}
  },
  {
   "cell_type": "code",
   "execution_count": 30,
   "metadata": {},
   "outputs": [
    {
     "output_type": "stream",
     "name": "stdout",
     "text": [
      "3628800\n"
     ]
    }
   ],
   "source": [
    "# Factorial\n",
    "\n",
    "# Provide a number and we'll calculate the factorial of that number.\n",
    "def factorial(n: int) -> int:\n",
    "    if n == 1:\n",
    "        return n\n",
    "    else:\n",
    "        return n * factorial(n-1)\n",
    "\n",
    "print(factorial(10))"
   ]
  },
  {
   "cell_type": "code",
   "execution_count": 32,
   "metadata": {},
   "outputs": [
    {
     "output_type": "stream",
     "name": "stdout",
     "text": [
      "9227465\n",
      "[0, 1, 1, 2, 3, 5, 8, 13, 21, 34, 55, 89, 144, 233, 377, 610, 987, 1597, 2584, 4181, 6765, 10946, 17711, 28657, 46368, 75025, 121393, 196418, 317811, 514229, 832040, 1346269, 2178309, 3524578, 5702887]\n"
     ]
    }
   ],
   "source": [
    "# Fibbonaci\n",
    "# Provide a number and we'll calculate the fibbonaci number at that point in the sequence.\n",
    "\n",
    "def fibbonaci(n: int) -> int:\n",
    "    if n <= 1: \n",
    "        return n\n",
    "    else:\n",
    "        return (fibbonaci(n-2) + fibbonaci(n-1))\n",
    "\n",
    "# Provide a number and we'll provide a list of the the fibbonaci sequence up to that point in the sequence.\n",
    "def fibbonaci_list(n: int) -> [int]:\n",
    "    arr = []\n",
    "    for i in range(n):\n",
    "       arr.append(fibbonaci(i))\n",
    "    \n",
    "    return arr\n",
    "\n",
    "print(fibbonaci(35))\n",
    "print(fibbonaci_list(35))"
   ]
  },
  {
   "cell_type": "code",
   "execution_count": null,
   "metadata": {},
   "outputs": [],
   "source": []
  }
 ]
}