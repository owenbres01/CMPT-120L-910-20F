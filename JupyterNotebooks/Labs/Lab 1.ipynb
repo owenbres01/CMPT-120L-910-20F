{
 "metadata": {
  "language_info": {
   "codemirror_mode": {
    "name": "ipython",
    "version": 3
   },
   "file_extension": ".py",
   "mimetype": "text/x-python",
   "name": "python",
   "nbconvert_exporter": "python",
   "pygments_lexer": "ipython3",
   "version": "3.8.5-final"
  },
  "orig_nbformat": 2,
  "kernelspec": {
<<<<<<< HEAD:JupyterNotebooks/Labs/Lab 1.ipynb
   "name": "python_defaultSpec_1599531811770",
   "display_name": "Python 3.8.5 64-bit"
=======
   "name": "python_defaultSpec_1599492656922",
   "display_name": "Python 3.6.10 64-bit"
>>>>>>> 1882ed2555fd3b6919def537166a724d291244ef:JupyterNotebooks/Labs/Lab One.ipynb
  }
 },
 "nbformat": 4,
 "nbformat_minor": 2,
 "cells": [
  {
   "cell_type": "markdown",
   "metadata": {},
   "source": [
    "# Lab1\n",
    "---\n",
    "\n",
    "Ok for this lab we're going to reiterate a lot of the things that we went over in class.\n",
    "\n",
    "Our Goals are:\n",
    "- Defining variables\n",
    "- Using math\n",
    "- Manipulating variables\n",
    "- Changing data types\n",
    "- Playing with lists"
   ]
  },
  {
   "cell_type": "code",
   "execution_count": 1,
   "metadata": {},
   "outputs": [],
   "source": [
    "# Define 4 variables, one of each type listed: [Integer, String, Boolean, Float]. Print all 4.\n",
    "#test\n",
    "#Integer\n",
    "age = 19\n",
    "\n",
    "#String\n",
    "name = \"Owen\"\n",
    "\n",
    "#Boolean\n",
    "goes_to_marist = True\n",
    "\n",
    "#Float\n",
    "height = 74.5"
   ]
  },
  {
   "cell_type": "code",
   "execution_count": 2,
   "metadata": {
    "tags": []
   },
   "outputs": [
    {
     "output_type": "stream",
     "name": "stdout",
     "text": "17\n-3\n0.7\n70\n7\n"
    }
   ],
   "source": [
    "# With whatever variables you'd like demonstrate the following: [Addition, Subtraction, Division, Multiplication, Modulo]. Print all 5.\n",
    "Input1 = 7\n",
    "Input2 = 10\n",
    "print(Input1 + Input2)\n",
    "print(Input1 - Input2)\n",
    "print(Input1 / Input2)\n",
    "print(Input1 * Input2)\n",
    "print(Input1 % Input2)"
   ]
  },
  {
   "cell_type": "code",
   "execution_count": 3,
   "metadata": {
    "tags": []
   },
   "outputs": [
    {
     "output_type": "stream",
     "name": "stdout",
     "text": "57\n"
    }
   ],
   "source": [
    "# Using 2 variables and addition print the number 57\n",
    "Integer1 = 50\n",
    "Integer2 = 7\n",
    "Solution = (Integer1 + Integer2)\n",
    "if Solution < 58:\n",
    "    print(Integer1 + Integer2)\n",
    "else:\n",
    "    print(\"Wrong\")"
   ]
  },
  {
   "cell_type": "code",
   "execution_count": 4,
   "metadata": {
    "tags": []
   },
   "outputs": [
    {
     "output_type": "stream",
     "name": "stdout",
     "text": "<class 'str'>\n<class 'int'>\n<class 'float'>\n<class 'bool'>\n"
    }
   ],
   "source": [
    "# Change this variable to a string and print\n",
    "number_into_string = 37\n",
    "number_into_string = str(number_into_string)\n",
    "print(type(number_into_string))\n",
    "# Change this variable to a integer and print\n",
    "string_into_number = '10'\n",
    "string_into_number = int(string_into_number)\n",
    "print(type(string_into_number))\n",
    "# Change this variable to a float and print\n",
    "string_into_float = '299.99'\n",
    "string_into_float = float(string_into_float)\n",
    "print(type(string_into_float))\n",
    "# Change this variable to a boolean and print\n",
    "number_into_boolean = 37\n",
    "number_into_boolean = bool(number_into_boolean)\n",
    "print(type(number_into_boolean))"
   ]
  },
  {
   "cell_type": "code",
   "execution_count": 5,
   "metadata": {
    "tags": []
   },
   "outputs": [
    {
     "output_type": "stream",
     "name": "stdout",
     "text": "['Mcdonalds', 'Burger_King', 'Wendys', 'Chik-fil-a', 'White_Castle']\n"
    }
   ],
   "source": [
    "# Make me a list of any type\n",
    "Fast_Food = [\"Mcdonalds\", \"Burger_King\", \"Wendys\", \"Chik-fil-a\", \"White_Castle\"]\n",
    "print(Fast_Food)"
   ]
  }
 ]
}