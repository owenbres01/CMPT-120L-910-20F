{
 "metadata": {
  "language_info": {
   "codemirror_mode": {
    "name": "ipython",
    "version": 3
   },
   "file_extension": ".py",
   "mimetype": "text/x-python",
   "name": "python",
   "nbconvert_exporter": "python",
   "pygments_lexer": "ipython3",
   "version": "3.8.5-final"
  },
  "orig_nbformat": 2,
  "kernelspec": {
   "name": "python_defaultSpec_1600024692573",
   "display_name": "Python 3.8.5 64-bit"
  }
 },
 "nbformat": 4,
 "nbformat_minor": 2,
 "cells": [
  {
   "cell_type": "markdown",
   "metadata": {},
   "source": [
    "# Lab Two\n",
    "---\n",
    "\n",
    "For this lab we're going to get into logic\n",
    "\n",
    "Our Goals are:\n",
    "- Using Conditionals\n",
    "- Using Loops\n",
    "- Creating a Function\n",
    "- Using a Class"
   ]
  },
  {
   "cell_type": "code",
   "execution_count": 1,
   "metadata": {
    "tags": []
   },
   "outputs": [
    {
     "output_type": "stream",
     "name": "stdout",
     "text": "I can make a chicken sandwich\n"
    }
   ],
   "source": [
    "# Create an if statement\n",
    "has_bread = True\n",
    "has_chicken = True\n",
    "if has_bread and has_chicken:\n",
    "    print(\"I can make a chicken sandwich\") "
   ]
  },
  {
   "cell_type": "code",
   "execution_count": 2,
   "metadata": {
    "tags": []
   },
   "outputs": [
    {
     "output_type": "stream",
     "name": "stdout",
     "text": "Good job, you passed!\n"
    }
   ],
   "source": [
    "# Create an if else statement\n",
    "passed_class = True\n",
    "if passed_class:\n",
    "    print(\"Good job, you passed!\")\n",
    "else:\n",
    "    print(\"Better luck next time\")"
   ]
  },
  {
   "cell_type": "code",
   "execution_count": 5,
   "metadata": {
    "tags": []
   },
   "outputs": [
    {
     "output_type": "stream",
     "name": "stdout",
     "text": "This day is awful\n"
    }
   ],
   "source": [
    "# Create an if elif else statement\n",
    "covered_spread = False\n",
    "patriots_won = True\n",
    "won_bet = False\n",
    "if covered_spread:\n",
    "    print(\"This is awesome!\")\n",
    "elif patriots_won and won_bet:\n",
    "    print(\"At least the patriots one...\")\n",
    "else:\n",
    "    print(\"This day is awful\")\n"
   ]
  },
  {
   "cell_type": "code",
   "execution_count": 7,
   "metadata": {
    "tags": []
   },
   "outputs": [
    {
     "output_type": "stream",
     "name": "stdout",
     "text": "0\n1\n2\n3\n4\n5\n6\n7\n8\n9\n"
    }
   ],
   "source": [
    "# Create a for loop using range(). Go from 0 to 9. Print out each number.\n",
    "for value in range(10):\n",
    "    print(value)"
   ]
  },
  {
   "cell_type": "code",
   "execution_count": 11,
   "metadata": {
    "tags": []
   },
   "outputs": [
    {
     "output_type": "stream",
     "name": "stdout",
     "text": "Blue\nYellow\nRed\nGreen\nPurple\nMagenta\nLilac\n"
    }
   ],
   "source": [
    "# Create a for loop iterating through this list and printing out the value.\n",
    "arr = ['Blue', 'Yellow', 'Red', 'Green', 'Purple', 'Magenta', 'Lilac']\n",
    "for item in arr:\n",
    "    print(item)\n",
    "# Get the length of the list above and print it."
   ]
  },
  {
   "cell_type": "code",
   "execution_count": 16,
   "metadata": {
    "tags": []
   },
   "outputs": [
    {
     "output_type": "stream",
     "name": "stdout",
     "text": "Looking for the secret number\nWe found the secret number, it was: 6\nLooking for the secret number\nWe found the secret number, it was: 6\nLooking for the secret number\nWe found the secret number, it was: 6\nLooking for the secret number\nWe found the secret number, it was: 6\nLooking for the secret number\nWe found the secret number, it was: 6\nLooking for the secret number\nWe found the secret number, it was: 6\n"
    }
   ],
   "source": [
    "# Create a while loop that ends after 6 times through. Print something for each pass.\n",
    "import random\n",
    "\n",
    "secret_number = random.randint(0,6)\n",
    "\n",
    "position = 0\n",
    "\n",
    "while position != secret_number:\n",
    "    print(\"Looking for the secret number\")\n",
    "    position += 1\n",
    "    print(\"We found the secret number, it was:\", secret_number)\n"
   ]
  },
  {
   "cell_type": "code",
   "execution_count": 29,
   "metadata": {
    "tags": []
   },
   "outputs": [
    {
     "output_type": "stream",
     "name": "stdout",
     "text": "12\n"
    }
   ],
   "source": [
    "# Create a function to add 2 numbers together. Print out the number\n",
    "a = 5\n",
    "b = 7\n",
    "sum_two_numbers = a + b\n",
    "print(sum_two_numbers)"
   ]
  },
  {
   "cell_type": "code",
   "execution_count": 19,
   "metadata": {
    "tags": []
   },
   "outputs": [
    {
     "output_type": "stream",
     "name": "stdout",
     "text": "a is odd\n"
    }
   ],
   "source": [
    "# Create a function that tells you if a number is odd or even and print the result.\n",
    "a = 7\n",
    "is_odd = True\n",
    "if is_odd:\n",
    "    print(\"a is odd\")\n",
    "else:\n",
    "    print(\"a is not odd\")"
   ]
  },
  {
   "cell_type": "code",
   "execution_count": 22,
   "metadata": {
    "tags": []
   },
   "outputs": [],
   "source": [
    "# Initialize an instance of the following class. Use a variable to store the object and then call the info function to print out the attributes.\n",
    "class Dog(object):\n",
    "    def __init__(self, name, height, weight, breed):\n",
    "        self.name = name\n",
    "        self.height = height\n",
    "        self.weight = weight\n",
    "        self.breed = breed\n",
    "\n",
    "    def info(self):\n",
    "        print(\"Name:\", self.name)\n",
    "        print(\"Weight:\", str(self.weight) + \" Pounds\")\n",
    "        print(\"Height:\", str(self.height) + \" Inches\")\n",
    "        print(\"Breed:\", self.breed)\n",
    "    "
   ]
  }
 ]
}