{
 "metadata": {
  "language_info": {
   "codemirror_mode": {
    "name": "ipython",
    "version": 3
   },
   "file_extension": ".py",
   "mimetype": "text/x-python",
   "name": "python",
   "nbconvert_exporter": "python",
   "pygments_lexer": "ipython3",
   "version": "3.8.5-final"
  },
  "orig_nbformat": 2,
  "kernelspec": {
   "name": "Python 3.8.5 32-bit",
   "display_name": "Python 3.8.5 32-bit",
   "metadata": {
    "interpreter": {
     "hash": "1365f6a10d5b0343d7fcae667a4b5f6da4ef096b36db1f0024bb7c1fb03ff3b4"
    }
   }
  }
 },
 "nbformat": 4,
 "nbformat_minor": 2,
 "cells": [
  {
   "source": [
    "# Lab Four\n",
    "---\n",
    "\n",
    "For this lab we're going to be messing around with Markdown!\n",
    "\n",
    "Our Goals are:\n",
    "- Using Markdown!\n",
    "\n",
    "I want you to describe to me your process of converting the assignment and making it DRY. \n",
    "\n",
    "Please show the ability to:\n",
    "- Make a header\n",
    "- Make a list (ordered or unordered)\n",
    "- Link the Markdown Guide from the lesson. \n",
    "- Artuculate your thought process."
   ],
   "cell_type": "markdown",
   "metadata": {}
  },
  {
   "source": [
    "## H2 How I Made Code Dry\n",
    "\n",
    "    1. I looked at the code to understand what it's purpose is.\n",
    "    2. I looked for any magic numbers\n",
    "    3. I looked for any repeated functions\n",
    "[Markdown](https://www.markdownguide.org)   \n",
    "\n",
    "To dry off the code I just looked at the code to see where there is a repitition. I noticed two repeated numbers, .85 and .15 and I decided to label them. I also noticed there was a lot of \"checking +=\" variables so I tried to think of a way to neaten it. I decided to split the transations list into two lists, one with positive values and one with negative values. This allowed me to get rid of almost all of the \"checking +=\" variables. \n"
   ],
   "cell_type": "markdown",
   "metadata": {}
  }
 ]
}